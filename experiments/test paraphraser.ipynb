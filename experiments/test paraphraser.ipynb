{
 "cells": [
  {
   "attachments": {},
   "cell_type": "markdown",
   "metadata": {},
   "source": [
    "# Test LLM with a text2speech output"
   ]
  },
  {
   "cell_type": "code",
   "execution_count": 43,
   "metadata": {},
   "outputs": [],
   "source": [
    "from parrot import Parrot\n",
    "import pandas as pd\n",
    "import random\n",
    "import torch\n",
    "import warnings\n",
    "warnings.filterwarnings(\"ignore\")"
   ]
  },
  {
   "cell_type": "code",
   "execution_count": 28,
   "metadata": {},
   "outputs": [],
   "source": [
    "#Init models (make sure you init ONLY once if you integrate this to your code)\n",
    "parrot = Parrot(model_tag=\"prithivida/parrot_paraphraser_on_T5\", use_gpu=False)"
   ]
  },
  {
   "cell_type": "code",
   "execution_count": 29,
   "metadata": {},
   "outputs": [],
   "source": [
    "general_descriptions = pd.read_csv('../data/general_informations.csv')\n",
    "general_descriptions = general_descriptions['general_informations'].to_list()"
   ]
  },
  {
   "cell_type": "code",
   "execution_count": 37,
   "metadata": {},
   "outputs": [],
   "source": [
    "sentences = general_descriptions[0].split('.')\n",
    "sentences = [sentence for sentence in sentences if len(sentence) > 20]"
   ]
  },
  {
   "cell_type": "code",
   "execution_count": 38,
   "metadata": {},
   "outputs": [
    {
     "data": {
      "text/plain": [
       "['This building  was a cult building where the worship of the god Asklepios and the goddess Aphrodite was done',\n",
       " ' Also it housed the worship of other Samothracian Gods',\n",
       " ' The walls of the building were plastered with red mortar which survives its original placement in some places, both internally and externally',\n",
       " ' It was also a place where dinners were held',\n",
       " ' It has Doric portico, which in its original phase was single or more likely abolished, in Roman times by the construction of a transverse wall',\n",
       " ' In the southeast corner of the building is the opening of the water tank, carved into the natural rock']"
      ]
     },
     "execution_count": 38,
     "metadata": {},
     "output_type": "execute_result"
    }
   ],
   "source": [
    "sentences"
   ]
  },
  {
   "cell_type": "code",
   "execution_count": 45,
   "metadata": {},
   "outputs": [
    {
     "name": "stdout",
     "output_type": "stream",
     "text": [
      "----------------------------------------------------------------------------------------------------\n",
      "Input_phrase:  This building  was a cult building where the worship of the god Asklepios and the goddess Aphrodite was done\n",
      "----------------------------------------------------------------------------------------------------\n",
      "No paraphrases generated\n",
      "----------------------------------------------------------------------------------------------------\n",
      "Input_phrase:   Also it housed the worship of other Samothracian Gods\n",
      "----------------------------------------------------------------------------------------------------\n",
      "('in addition it houses worship of other samothracian gods', 21)\n",
      "('it also held the worship of other samothracian gods', 19)\n",
      "('it also housed the worship of other samothracian gods', 15)\n",
      "('also it housed the worship of other samothracian gods', 13)\n",
      "----------------------------------------------------------------------------------------------------\n",
      "Input_phrase:   The walls of the building were plastered with red mortar which survives its original placement in some places, both internally and externally\n",
      "----------------------------------------------------------------------------------------------------\n",
      "('the walls of the building were plastered with red mortar which has survived its original placement both internally and externally both internally and externally', 43)\n",
      "('the walls of the building were plastered with red mortar that remains its original placement at some places both internal and externally', 27)\n",
      "('the walls of the building were clad with red mortar which remains its original placement in some places both internally and externally', 25)\n",
      "('the walls of the building were plastered with red mortar that survives its original position in some places both internally and externally', 24)\n",
      "('the walls of the building were plastered with red mortar which survives its original placement in some places both internally as well as externally', 22)\n",
      "('the walls of the building were plastered with red mortar which survives its original position in some places both internally and externally', 20)\n",
      "('the walls of the building were plastered with red mortar which survives its original placement in some places both internally and externally', 13)\n",
      "----------------------------------------------------------------------------------------------------\n",
      "Input_phrase:   It was also a place where dinners were held\n",
      "----------------------------------------------------------------------------------------------------\n",
      "('it was also the place where dinners were held', 16)\n",
      "('it was also a place where dinners were held', 13)\n",
      "----------------------------------------------------------------------------------------------------\n",
      "Input_phrase:   It has Doric portico, which in its original phase was single or more likely abolished, in Roman times by the construction of a transverse wall\n",
      "----------------------------------------------------------------------------------------------------\n",
      "No paraphrases generated\n",
      "----------------------------------------------------------------------------------------------------\n",
      "Input_phrase:   In the southeast corner of the building is the opening of the water tank, carved into the natural rock\n",
      "----------------------------------------------------------------------------------------------------\n",
      "No paraphrases generated\n"
     ]
    }
   ],
   "source": [
    "for phrase in sentences:\n",
    "  print(\"-\"*100)\n",
    "  print(\"Input_phrase: \", phrase)\n",
    "  print(\"-\"*100)\n",
    "  if random.random() < 0.75:\n",
    "    para_phrases = parrot.augment(input_phrase=phrase,\n",
    "                                  diversity_ranker=\"levenshtein\",\n",
    "                                  do_diverse=False, \n",
    "                                  adequacy_threshold = 0.5, \n",
    "                                  fluency_threshold = 0.5)\n",
    "    if para_phrases is not None:\n",
    "      for para_phrase in para_phrases:\n",
    "        print(para_phrase)\n",
    "  else:\n",
    "    print(\"No paraphrases generated\")"
   ]
  },
  {
   "cell_type": "code",
   "execution_count": null,
   "metadata": {},
   "outputs": [],
   "source": []
  }
 ],
 "metadata": {
  "kernelspec": {
   "display_name": "awesome",
   "language": "python",
   "name": "python3"
  },
  "language_info": {
   "codemirror_mode": {
    "name": "ipython",
    "version": 3
   },
   "file_extension": ".py",
   "mimetype": "text/x-python",
   "name": "python",
   "nbconvert_exporter": "python",
   "pygments_lexer": "ipython3",
   "version": "3.9.16"
  },
  "orig_nbformat": 4
 },
 "nbformat": 4,
 "nbformat_minor": 2
}
