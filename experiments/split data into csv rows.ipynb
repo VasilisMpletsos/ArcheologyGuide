{
 "cells": [
  {
   "attachments": {},
   "cell_type": "markdown",
   "metadata": {},
   "source": [
    "# Split data into csv rows"
   ]
  },
  {
   "cell_type": "code",
   "execution_count": 10,
   "metadata": {},
   "outputs": [],
   "source": [
    "import pandas as pd\n",
    "import torch\n",
    "import numpy as np\n",
    "from langchain.text_splitter import CharacterTextSplitter\n",
    "from transformers import AutoTokenizer, AutoModel, AutoModelForSeq2SeqLM, pipeline"
   ]
  },
  {
   "cell_type": "code",
   "execution_count": 11,
   "metadata": {},
   "outputs": [],
   "source": [
    "# remove with regex the brackets and its content from a phrase\n",
    "def clean_text(text):\n",
    "    # strip sentenece\n",
    "    text = text.lower().strip()\n",
    "    # remove tabs\n",
    "    text = text.replace('\\t', '')\n",
    "    # remove new lines\n",
    "    text = text.replace('\\n', '')\n",
    "    return text"
   ]
  },
  {
   "cell_type": "code",
   "execution_count": 3,
   "metadata": {},
   "outputs": [],
   "source": [
    "# read txt file\n",
    "def read_txt_file(file_path):\n",
    "    with open(file_path, 'r', encoding='utf-8') as f:\n",
    "        text = f.read()\n",
    "    return text"
   ]
  },
  {
   "cell_type": "code",
   "execution_count": 18,
   "metadata": {},
   "outputs": [],
   "source": [
    "item_data = read_txt_file('./KnowledgeBase/South_Structures/necropolis.txt')"
   ]
  },
  {
   "cell_type": "code",
   "execution_count": 19,
   "metadata": {},
   "outputs": [],
   "source": [
    "text_splitter = CharacterTextSplitter(    \n",
    "    separator = \".\",\n",
    "    chunk_size = 150,\n",
    "    chunk_overlap  = 50,\n",
    "    length_function = len,\n",
    ")"
   ]
  },
  {
   "cell_type": "code",
   "execution_count": 20,
   "metadata": {},
   "outputs": [
    {
     "name": "stderr",
     "output_type": "stream",
     "text": [
      "Created a chunk of size 168, which is longer than the specified 150\n",
      "Created a chunk of size 166, which is longer than the specified 150\n",
      "Created a chunk of size 208, which is longer than the specified 150\n",
      "Created a chunk of size 179, which is longer than the specified 150\n",
      "Created a chunk of size 189, which is longer than the specified 150\n"
     ]
    }
   ],
   "source": [
    "passages = text_splitter.create_documents([item_data]);\n",
    "passages = [clean_text(sentence.page_content) for sentence in passages]"
   ]
  },
  {
   "cell_type": "code",
   "execution_count": 21,
   "metadata": {},
   "outputs": [
    {
     "data": {
      "text/plain": [
       "['the ancient city had two necropolises outside the walls',\n",
       " 'the main cemetery of the ancient city occupies a large area outside the southern part of the wall, while groups of tombs can also be seen outside the northwestern gate',\n",
       " 'from the excavations of the years from one thousand ninty one to ninty six, to an area of approximately four hundred square meter sixty eight (68) burials were found',\n",
       " 'out of the 68 burials that came to light, 62 were found arrested and only 6 unclaimed',\n",
       " \"out of the total number of graves, 41 definitely belong to adults, 17 graves that were found very damaged seem to have belonged to adults as well, while only 8 of the total were children's and two of infants\",\n",
       " 'few skeletons are preserved in good condition, so it is difficult to identify the sex and age of the individuals',\n",
       " \"of the total number of graves, 66 are box-shaped carved into the natural rock and there is only one inhumation in a sharp-bottomed amphora, although a child's burial in a beehive\",\n",
       " 'the graves were carved densely and almost parallel to each other on the downhill slope of the diocese',\n",
       " 'from the fragments of vessels recovered from most of the burials it appears that almost all the graves were endowed',\n",
       " 'the usual grave offerings were vessels, and these are mainly vessels of small size, such as olpes, lekythia and incense containers, but also drinking vessels, such as kyathia and scyphidia',\n",
       " 'the most common grave goods are lamps, which were found in all the box-shaped undisturbed graves.']"
      ]
     },
     "execution_count": 21,
     "metadata": {},
     "output_type": "execute_result"
    }
   ],
   "source": [
    "passages"
   ]
  },
  {
   "cell_type": "code",
   "execution_count": 22,
   "metadata": {},
   "outputs": [],
   "source": [
    "# create dataframe\n",
    "df = pd.DataFrame({'passages': passages})"
   ]
  },
  {
   "cell_type": "code",
   "execution_count": 23,
   "metadata": {},
   "outputs": [],
   "source": [
    "df.to_csv('./KnowledgeBase/South_Structures/necropolis_passages.csv', index=False)"
   ]
  },
  {
   "cell_type": "code",
   "execution_count": null,
   "metadata": {},
   "outputs": [],
   "source": []
  }
 ],
 "metadata": {
  "kernelspec": {
   "display_name": "awesome",
   "language": "python",
   "name": "python3"
  },
  "language_info": {
   "codemirror_mode": {
    "name": "ipython",
    "version": 3
   },
   "file_extension": ".py",
   "mimetype": "text/x-python",
   "name": "python",
   "nbconvert_exporter": "python",
   "pygments_lexer": "ipython3",
   "version": "3.9.16"
  },
  "orig_nbformat": 4
 },
 "nbformat": 4,
 "nbformat_minor": 2
}
