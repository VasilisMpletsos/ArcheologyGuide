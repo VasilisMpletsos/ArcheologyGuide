{
 "cells": [
  {
   "attachments": {},
   "cell_type": "markdown",
   "metadata": {},
   "source": [
    "# Split data into csv rows"
   ]
  },
  {
   "cell_type": "code",
   "execution_count": 11,
   "metadata": {},
   "outputs": [],
   "source": [
    "import pandas as pd\n",
    "import torch\n",
    "import numpy as np\n",
    "from langchain.text_splitter import CharacterTextSplitter\n",
    "from transformers import AutoTokenizer, AutoModel, AutoModelForSeq2SeqLM, pipeline"
   ]
  },
  {
   "cell_type": "code",
   "execution_count": 12,
   "metadata": {},
   "outputs": [],
   "source": [
    "# remove with regex the brackets and its content from a phrase\n",
    "def clean_text(text):\n",
    "    # strip sentenece\n",
    "    text = text.lower().strip()\n",
    "    # remove tabs\n",
    "    text = text.replace('\\t', '')\n",
    "    # remove new lines\n",
    "    text = text.replace('\\n', '')\n",
    "    return text"
   ]
  },
  {
   "cell_type": "code",
   "execution_count": 13,
   "metadata": {},
   "outputs": [],
   "source": [
    "# read txt file\n",
    "def read_txt_file(file_path):\n",
    "    with open(file_path, 'r', encoding='utf-8') as f:\n",
    "        text = f.read()\n",
    "    return text"
   ]
  },
  {
   "cell_type": "code",
   "execution_count": 14,
   "metadata": {},
   "outputs": [],
   "source": [
    "item_data = read_txt_file('./KnowledgeBase/Vryokastraki_Island/christian_basilica.txt')"
   ]
  },
  {
   "cell_type": "code",
   "execution_count": 15,
   "metadata": {},
   "outputs": [],
   "source": [
    "text_splitter = CharacterTextSplitter(    \n",
    "    separator = \".\",\n",
    "    chunk_size = 150,\n",
    "    chunk_overlap  = 50,\n",
    "    length_function = len,\n",
    ")"
   ]
  },
  {
   "cell_type": "code",
   "execution_count": 16,
   "metadata": {},
   "outputs": [
    {
     "name": "stderr",
     "output_type": "stream",
     "text": [
      "Created a chunk of size 272, which is longer than the specified 150\n",
      "Created a chunk of size 215, which is longer than the specified 150\n",
      "Created a chunk of size 212, which is longer than the specified 150\n",
      "Created a chunk of size 273, which is longer than the specified 150\n",
      "Created a chunk of size 474, which is longer than the specified 150\n"
     ]
    }
   ],
   "source": [
    "passages = text_splitter.create_documents([item_data]);\n",
    "passages = [clean_text(sentence.page_content) for sentence in passages]"
   ]
  },
  {
   "cell_type": "code",
   "execution_count": 17,
   "metadata": {},
   "outputs": [
    {
     "data": {
      "text/plain": [
       "['the three-aisled early christian basilica is the latest building of a religious nature in the ancient city until today',\n",
       " 'it has an almost square plan from which the arch of the sanctuary protrudes to the east',\n",
       " 'the external entrances open on the side walls of the narthex, since the ground was elevated to the west',\n",
       " 'the unevenness of the floors of the rooms is due to the morphology of the ground.each aisle communicated directly with the narthex',\n",
       " 'three main phases can be distinguished from the monument complex construction, the one where the separation of the aisles is done with alternating pessos and columns is noted, as well as the last one where the transoms are sealed leaving small passages between the aisles',\n",
       " \"marble members were used as spolia in the building, such as facings of ancient monuments, pedestals, propellers of an ionic colonnade probably of archaic times and a table in two fragments with a lion's foot finial\",\n",
       " 'two fragmentarily preserved inscriptions were found,the one dating from the beginning of the 4th century bc, the other engraved on a tabula ansata honoring the emperor vespasian or domitian of the 1st century ad',\n",
       " 'synthron with episcopal throne is formed in the arch',\n",
       " 'important items were also discovered, such as a marble colonnade, a circular marble table, a part of an iron cross, a bronze candelabrum with a hanging chain from the second half of the 6th century ορ early 7th century and lead beaker with incised decoration and tall foot',\n",
       " 'under the disturbed floor of the apse, a layer of broken early byzantine vessels came to light, such as short pots, late roman amphora 2 and mainly a large number of fragments from the body of cylindrical amphorae of the late roman amphora 1 type, dating mainly to the 6th century and the beginning of the 7thunder the layer on the longitudinal axis of the temple, a small rectangular excavation in the natural rock was revealed in the form of a case with a covering plate',\n",
       " 'the basilica was in operation at least until the 7th century, without excluding its later use.']"
      ]
     },
     "execution_count": 17,
     "metadata": {},
     "output_type": "execute_result"
    }
   ],
   "source": [
    "passages"
   ]
  },
  {
   "cell_type": "code",
   "execution_count": 18,
   "metadata": {},
   "outputs": [],
   "source": [
    "# create dataframe\n",
    "df = pd.DataFrame({'passages': passages})"
   ]
  },
  {
   "cell_type": "code",
   "execution_count": 19,
   "metadata": {},
   "outputs": [],
   "source": [
    "df.to_csv('./KnowledgeBase/Vryokastraki_Island/christian_basilica_passages.csv', index=False)"
   ]
  },
  {
   "cell_type": "code",
   "execution_count": null,
   "metadata": {},
   "outputs": [],
   "source": []
  }
 ],
 "metadata": {
  "kernelspec": {
   "display_name": "awesome",
   "language": "python",
   "name": "python3"
  },
  "language_info": {
   "codemirror_mode": {
    "name": "ipython",
    "version": 3
   },
   "file_extension": ".py",
   "mimetype": "text/x-python",
   "name": "python",
   "nbconvert_exporter": "python",
   "pygments_lexer": "ipython3",
   "version": "3.9.16"
  },
  "orig_nbformat": 4
 },
 "nbformat": 4,
 "nbformat_minor": 2
}
