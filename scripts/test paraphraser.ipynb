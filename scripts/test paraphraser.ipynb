{
 "cells": [
  {
   "attachments": {},
   "cell_type": "markdown",
   "metadata": {},
   "source": [
    "# Test LLM with a text2speech output"
   ]
  },
  {
   "cell_type": "code",
   "execution_count": 1,
   "metadata": {},
   "outputs": [],
   "source": [
    "from parrot import Parrot\n",
    "import pandas as pd\n",
    "import random\n",
    "import torch\n",
    "import warnings\n",
    "warnings.filterwarnings(\"ignore\")\n",
    "from transformers import AutoTokenizer, AutoModel, AutoModelForSeq2SeqLM, pipeline, T5ForConditionalGeneration, T5Tokenizer"
   ]
  },
  {
   "cell_type": "code",
   "execution_count": 2,
   "metadata": {},
   "outputs": [],
   "source": [
    "tokenizer = AutoTokenizer.from_pretrained(\"prithivida/parrot_paraphraser_on_T5\")\n",
    "paraphrase_model = AutoModelForSeq2SeqLM.from_pretrained(\"./FineTunedParrotParaphraser\")\n",
    "paraphrase_model.to('cuda');\n",
    "task_prefix = \"paraphrase: \";"
   ]
  },
  {
   "cell_type": "code",
   "execution_count": 3,
   "metadata": {},
   "outputs": [],
   "source": [
    "general_descriptions = pd.read_csv('../data/general_informations.csv')\n",
    "general_descriptions = general_descriptions['general_informations'].to_list()"
   ]
  },
  {
   "cell_type": "code",
   "execution_count": 9,
   "metadata": {},
   "outputs": [],
   "source": [
    "sentences = general_descriptions[1].split('.')\n",
    "sentences = [sentence for sentence in sentences if len(sentence) > 20]"
   ]
  },
  {
   "cell_type": "code",
   "execution_count": 10,
   "metadata": {},
   "outputs": [
    {
     "data": {
      "text/plain": [
       "['This building was a ancillary building to building one',\n",
       " ' It was used for religious purposes',\n",
       " ' A lot findings from the Geometric to Hellenistic times came to light from this building',\n",
       " ' It was dated to the late Classical to early Hellenistic times',\n",
       " ' During its excavation, a lot of pottery, figurines, lighting vessels and several animal bones were found',\n",
       " ' This area is important among other things because of the presence of many marble sculptures and also inscriptions']"
      ]
     },
     "execution_count": 10,
     "metadata": {},
     "output_type": "execute_result"
    }
   ],
   "source": [
    "sentences"
   ]
  },
  {
   "cell_type": "code",
   "execution_count": 13,
   "metadata": {},
   "outputs": [],
   "source": [
    "def paraphase_text(text):\n",
    "    # para_phrases = paraphraser.augment(input_phrase=text, diversity_ranker=\"levenshtein\", do_diverse=False, adequacy_threshold = 0.7, fluency_threshold = 0.7);\n",
    "    # get 2 instructions from the dataset\n",
    "    inputs = tokenizer([task_prefix + text], return_tensors=\"pt\", padding=True)\n",
    "    inputs = inputs.to('cuda')\n",
    "    preds = paraphrase_model.generate(\n",
    "              inputs['input_ids'],\n",
    "              do_sample=False, \n",
    "              max_length=256, \n",
    "              num_beams = 32,\n",
    "              num_beam_groups = 4,\n",
    "              diversity_penalty = 2.0,\n",
    "              early_stopping=True,\n",
    "              num_return_sequences=4\n",
    "              )\n",
    "    generated_phrases = tokenizer.batch_decode(preds, skip_special_tokens=True, clean_up_tokenization_spaces=True)\n",
    "    # Remove duplicates\n",
    "    generated_phrases = list(set(generated_phrases))\n",
    "    return generated_phrases"
   ]
  },
  {
   "cell_type": "code",
   "execution_count": 14,
   "metadata": {},
   "outputs": [
    {
     "name": "stdout",
     "output_type": "stream",
     "text": [
      "----------------------------------------------------------------------------------------------------\n",
      "Input_phrase:  This building was a ancillary building to building one\n",
      "----------------------------------------------------------------------------------------------------\n",
      "This building was an ancillary building to building one\n",
      "This building was an ancillary building to the building one\n",
      "This building was an auxiliary building to building one\n",
      "This building was an auxiliary building to the building one\n",
      "----------------------------------------------------------------------------------------------------\n",
      "Input_phrase:   It was used for religious purposes\n",
      "----------------------------------------------------------------------------------------------------\n",
      "It was used to religious purposes\n",
      "It was used for religious purposes\n",
      "It was used in religious purposes\n",
      "It was used for religious reasons\n",
      "----------------------------------------------------------------------------------------------------\n",
      "Input_phrase:   A lot findings from the Geometric to Hellenistic times came to light from this building\n",
      "----------------------------------------------------------------------------------------------------\n",
      "A lot of discoveries from the geometric to Hellenistic times came to light from this building\n",
      "A lot of findings from the Geometric to Hellenistic times came to light from this building\n",
      "A lot of discoveries from the Geometric to Hellenistic times came to light from this building\n",
      "A lot of findings from the geometric to Hellenistic times came to light from this building\n",
      "----------------------------------------------------------------------------------------------------\n",
      "Input_phrase:   It was dated to the late Classical to early Hellenistic times\n",
      "----------------------------------------------------------------------------------------------------\n",
      "It was dated to the late Classical to early Hellenistic\n",
      "It was dated to late Classical to early Hellenistic times\n",
      "It was dated to the late Classical to early Hellenistic years\n",
      "It was dated to the late Classical to early Hellenistic times\n",
      "----------------------------------------------------------------------------------------------------\n",
      "Input_phrase:   During its excavation, a lot of pottery, figurines, lighting vessels and several animal bones were found\n",
      "----------------------------------------------------------------------------------------------------\n",
      "However a lot of pottery and animal bones were found during its excavation.\n",
      "However a lot of pottery and animal bones were found during its excavation\n",
      "However a lot of pottery and animal bones were found during the excavation.\n",
      "However a lot of pottery and animal bones have been found during its excavations.\n",
      "----------------------------------------------------------------------------------------------------\n",
      "Input_phrase:   This area is important among other things because of the presence of many marble sculptures and also inscriptions\n",
      "----------------------------------------------------------------------------------------------------\n",
      "This area is important because of the presence of many marble sculptures and also inscriptions\n",
      "Because of the presence of many marble sculptures and also inscriptions the area is important\n",
      "Because of the presence of many marble sculptures and also inscriptions this area is important\n",
      "Besides the presence of many marble sculptures and also inscriptions this area is important\n"
     ]
    }
   ],
   "source": [
    "for phrase in sentences:\n",
    "  print(\"-\"*100)\n",
    "  print(\"Input_phrase: \", phrase)\n",
    "  print(\"-\"*100)\n",
    "  phrases = paraphase_text(phrase)\n",
    "  for phrase in phrases:\n",
    "    print(phrase)"
   ]
  },
  {
   "cell_type": "code",
   "execution_count": null,
   "metadata": {},
   "outputs": [],
   "source": []
  }
 ],
 "metadata": {
  "kernelspec": {
   "display_name": "awesome",
   "language": "python",
   "name": "python3"
  },
  "language_info": {
   "codemirror_mode": {
    "name": "ipython",
    "version": 3
   },
   "file_extension": ".py",
   "mimetype": "text/x-python",
   "name": "python",
   "nbconvert_exporter": "python",
   "pygments_lexer": "ipython3",
   "version": "3.9.16"
  },
  "orig_nbformat": 4
 },
 "nbformat": 4,
 "nbformat_minor": 2
}
