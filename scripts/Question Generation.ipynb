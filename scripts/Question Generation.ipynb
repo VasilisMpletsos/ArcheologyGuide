{
 "cells": [
  {
   "cell_type": "code",
   "execution_count": 30,
   "metadata": {},
   "outputs": [],
   "source": [
    "import torch\n",
    "import pandas as pd\n",
    "import numpy as np\n",
    "from transformers import AutoTokenizer, AutoModelForSeq2SeqLM\n",
    "import random"
   ]
  },
  {
   "cell_type": "code",
   "execution_count": 2,
   "metadata": {},
   "outputs": [
    {
     "name": "stderr",
     "output_type": "stream",
     "text": [
      "Downloading (…)okenizer_config.json: 100%|██████████| 2.35k/2.35k [00:00<00:00, 587kB/s]\n",
      "Downloading spiece.model: 100%|██████████| 792k/792k [00:00<00:00, 2.16MB/s]\n",
      "Downloading (…)/main/tokenizer.json: 100%|██████████| 2.42M/2.42M [00:00<00:00, 3.01MB/s]\n",
      "Downloading (…)in/added_tokens.json: 100%|██████████| 21.0/21.0 [00:00<00:00, 7.00kB/s]\n",
      "Downloading (…)cial_tokens_map.json: 100%|██████████| 2.23k/2.23k [00:00<00:00, 741kB/s]\n",
      "Downloading (…)lve/main/config.json: 100%|██████████| 1.48k/1.48k [00:00<00:00, 492kB/s]\n",
      "Downloading pytorch_model.bin: 100%|██████████| 2.95G/2.95G [01:51<00:00, 26.5MB/s]\n",
      "Downloading (…)neration_config.json: 100%|██████████| 142/142 [00:00<00:00, 34.5kB/s]\n"
     ]
    }
   ],
   "source": [
    "tokenizer = AutoTokenizer.from_pretrained(\"potsawee/t5-large-generation-squad-QuestionAnswer\")\n",
    "model = AutoModelForSeq2SeqLM.from_pretrained(\"potsawee/t5-large-generation-squad-QuestionAnswer\")"
   ]
  },
  {
   "cell_type": "code",
   "execution_count": 23,
   "metadata": {},
   "outputs": [],
   "source": [
    "passage = 'the doric portico, which in its original phase was single, was divided, or more likely abolished, in roman times by the construction of a transverse wall, aligned with the intermediate wall of rooms a and c, changing the layout of the building and by extension dividing the in two separate buildings'"
   ]
  },
  {
   "cell_type": "code",
   "execution_count": 24,
   "metadata": {},
   "outputs": [],
   "source": [
    "sentence_inputs = tokenizer([passage], return_tensors=\"pt\", padding=True)\n",
    "preds = model.generate(\n",
    "            sentence_inputs['input_ids'],\n",
    "            do_sample=False, \n",
    "            max_length=256, \n",
    "            num_beams = 16,\n",
    "            num_beam_groups = 4,\n",
    "            diversity_penalty = 3.0,\n",
    "            early_stopping=True,\n",
    "            num_return_sequences=4\n",
    "            )"
   ]
  },
  {
   "cell_type": "code",
   "execution_count": 27,
   "metadata": {},
   "outputs": [],
   "source": [
    "generated_questions = tokenizer.batch_decode(preds, skip_special_tokens=True, clean_up_tokenization_spaces=True)"
   ]
  },
  {
   "cell_type": "code",
   "execution_count": 39,
   "metadata": {},
   "outputs": [],
   "source": [
    "generated_questions = list(set(generated_questions))\n",
    "returned_question = random.choice(generated_questions);\n",
    "returned_question = returned_question.split('?')[0] + '?'"
   ]
  },
  {
   "cell_type": "code",
   "execution_count": 40,
   "metadata": {},
   "outputs": [
    {
     "data": {
      "text/plain": [
       "'What did the construction of a transverse wall do to the layout of the building?'"
      ]
     },
     "execution_count": 40,
     "metadata": {},
     "output_type": "execute_result"
    }
   ],
   "source": [
    "returned_question"
   ]
  },
  {
   "cell_type": "code",
   "execution_count": null,
   "metadata": {},
   "outputs": [],
   "source": []
  }
 ],
 "metadata": {
  "kernelspec": {
   "display_name": "guide",
   "language": "python",
   "name": "python3"
  },
  "language_info": {
   "codemirror_mode": {
    "name": "ipython",
    "version": 3
   },
   "file_extension": ".py",
   "mimetype": "text/x-python",
   "name": "python",
   "nbconvert_exporter": "python",
   "pygments_lexer": "ipython3",
   "version": "3.9.16"
  },
  "orig_nbformat": 4
 },
 "nbformat": 4,
 "nbformat_minor": 2
}
