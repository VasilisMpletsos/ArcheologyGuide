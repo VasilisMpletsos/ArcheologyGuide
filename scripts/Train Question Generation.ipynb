{
 "cells": [
  {
   "cell_type": "code",
   "execution_count": 1,
   "metadata": {},
   "outputs": [
    {
     "name": "stderr",
     "output_type": "stream",
     "text": [
      "c:\\Users\\vmpletsos\\Anaconda3\\envs\\guide\\lib\\site-packages\\tqdm\\auto.py:21: TqdmWarning: IProgress not found. Please update jupyter and ipywidgets. See https://ipywidgets.readthedocs.io/en/stable/user_install.html\n",
      "  from .autonotebook import tqdm as notebook_tqdm\n"
     ]
    }
   ],
   "source": [
    "import torch\n",
    "import pandas as pd\n",
    "import numpy as np\n",
    "import torch.optim as optim\n",
    "from datasets import load_dataset\n",
    "# This one is for paraphrasing\n",
    "from transformers import AutoTokenizer, AutoModelForSeq2SeqLM"
   ]
  },
  {
   "cell_type": "code",
   "execution_count": 2,
   "metadata": {},
   "outputs": [],
   "source": [
    "torch.backends.cuda.matmul.allow_tf32 = True"
   ]
  },
  {
   "cell_type": "code",
   "execution_count": 3,
   "metadata": {},
   "outputs": [
    {
     "name": "stderr",
     "output_type": "stream",
     "text": [
      "'(ReadTimeoutError(\"HTTPSConnectionPool(host='huggingface.co', port=443): Read timed out. (read timeout=10)\"), '(Request ID: 325523c6-545d-43ae-bfba-5a1dc366c414)')' thrown while requesting HEAD https://huggingface.co/allenai/t5-small-squad2-question-generation/resolve/main/tokenizer_config.json\n"
     ]
    }
   ],
   "source": [
    "tokenizer = AutoTokenizer.from_pretrained(\"allenai/t5-small-squad2-question-generation\")\n",
    "model = AutoModelForSeq2SeqLM.from_pretrained(\"allenai/t5-small-squad2-question-generation\")"
   ]
  },
  {
   "cell_type": "code",
   "execution_count": null,
   "metadata": {},
   "outputs": [],
   "source": [
    "model.to('cuda');"
   ]
  },
  {
   "cell_type": "code",
   "execution_count": null,
   "metadata": {},
   "outputs": [
    {
     "name": "stderr",
     "output_type": "stream",
     "text": [
      "Found cached dataset csv (C:/Users/vmpletsos/.cache/huggingface/datasets/csv/default-1689b4499577ff6c/0.0.0/6b34fb8fcf56f7c8ba51dc895bfa2bfbe43546f190a60fcf74bb5e8afdcc2317)\n",
      "100%|██████████| 1/1 [00:00<00:00, 1000.31it/s]\n"
     ]
    }
   ],
   "source": [
    "dataset = load_dataset(\"csv\", data_files='./Question Generation Train.csv');\n",
    "dataset = dataset['train'];"
   ]
  },
  {
   "cell_type": "code",
   "execution_count": null,
   "metadata": {},
   "outputs": [],
   "source": [
    "# Shuffle the dataset\n",
    "dataset = dataset.shuffle();"
   ]
  },
  {
   "cell_type": "code",
   "execution_count": null,
   "metadata": {},
   "outputs": [
    {
     "data": {
      "text/plain": [
       "Dataset({\n",
       "    features: ['passages', 'questions'],\n",
       "    num_rows: 702\n",
       "})"
      ]
     },
     "execution_count": 66,
     "metadata": {},
     "output_type": "execute_result"
    }
   ],
   "source": [
    "dataset"
   ]
  },
  {
   "cell_type": "code",
   "execution_count": null,
   "metadata": {},
   "outputs": [],
   "source": [
    "epochs = 20\n",
    "max_length = 524\n",
    "batch_size = 64"
   ]
  },
  {
   "cell_type": "code",
   "execution_count": null,
   "metadata": {},
   "outputs": [],
   "source": [
    "dataset_length = len(dataset)"
   ]
  },
  {
   "cell_type": "code",
   "execution_count": 68,
   "metadata": {},
   "outputs": [],
   "source": [
    "optimizer = optim.Adam(\n",
    "            params=model.parameters(),\n",
    "            lr=2e-5,\n",
    "            betas=(0.9, 0.999),\n",
    "            eps=1e-08,\n",
    "            amsgrad=False,\n",
    "            weight_decay=1e-6\n",
    "        )"
   ]
  },
  {
   "cell_type": "code",
   "execution_count": 69,
   "metadata": {},
   "outputs": [
    {
     "name": "stdout",
     "output_type": "stream",
     "text": [
      "Epoch 1 Loss/train 0.05065114686915602\n",
      "Epoch 2 Loss/train 0.05005071379921653\n",
      "Epoch 3 Loss/train 0.049397751033480916\n",
      "Epoch 4 Loss/train 0.04836491545624048\n",
      "Epoch 5 Loss/train 0.04803230755489942\n",
      "Epoch 6 Loss/train 0.04733248609951165\n",
      "Epoch 7 Loss/train 0.04677258838306774\n",
      "Epoch 8 Loss/train 0.04634768382545091\n",
      "Epoch 9 Loss/train 0.04612297046918673\n",
      "Epoch 10 Loss/train 0.04568388455074903\n"
     ]
    }
   ],
   "source": [
    "for epoch in range(epochs):\n",
    "    # Set the model to training mode\n",
    "    model.train()\n",
    "    epoch_loss = 0\n",
    "    j = 0\n",
    "    while j < dataset_length:\n",
    "        if j + batch_size > dataset_length:\n",
    "            passages = dataset[j:len(dataset)]['passages']\n",
    "            questions = dataset[j:len(dataset)]['questions']\n",
    "        else:\n",
    "            passages = dataset[j:j + batch_size]['passages']\n",
    "            questions = dataset[j:j + batch_size]['questions']\n",
    "        j += batch_size \n",
    "        \n",
    "        encoding = tokenizer(\n",
    "            [original for original in passages],\n",
    "            padding=\"longest\",\n",
    "            max_length=max_length,\n",
    "            truncation=True,\n",
    "            return_tensors=\"pt\",\n",
    "        )\n",
    "        input_ids, attention_mask = encoding.input_ids, encoding.attention_mask\n",
    "        \n",
    "        target_encoding = tokenizer(\n",
    "            questions,\n",
    "            padding=\"longest\",\n",
    "            max_length=max_length,\n",
    "            truncation=True,\n",
    "            return_tensors=\"pt\",\n",
    "        )\n",
    "        labels = target_encoding.input_ids\n",
    "        # replace padding token id's of the labels by -100 so it's ignored by the loss\n",
    "        labels[labels == tokenizer.pad_token_id] = -100\n",
    "        \n",
    "        # Zero the gradients\n",
    "        optimizer.zero_grad()\n",
    "        \n",
    "        input_ids = input_ids.to('cuda')\n",
    "        attention_mask = attention_mask.to('cuda')\n",
    "        labels = labels.to('cuda')\n",
    "        \n",
    "        # forward pass\n",
    "        loss = model(input_ids=input_ids, attention_mask=attention_mask, labels=labels).loss\n",
    "        epoch_loss += loss.item()\n",
    "        loss.backward()\n",
    "        # (loss / gradient_accumulations_steps).backward()\n",
    "        \n",
    "        optimizer.step()\n",
    "        # # Backward pass and optimization step\n",
    "        # if (j+1) % gradient_accumulations_steps == 0:\n",
    "        #     model.zero_grad()\n",
    "    print('Epoch', epoch+1, 'Loss/train', epoch_loss/dataset_length)\n",
    "    "
   ]
  },
  {
   "cell_type": "code",
   "execution_count": 90,
   "metadata": {},
   "outputs": [],
   "source": [
    "# get 2 instructions from the dataset\n",
    "sentences = [\n",
    "    'The most valuable findings there were dated from archaic times',\n",
    "    'This building was probably used as the market of Hellenistic times'\n",
    "    ]\n",
    "sentence_inputs = tokenizer([sentence for sentence in sentences], return_tensors=\"pt\", padding=True)\n",
    "sentence_inputs = sentence_inputs.to('cuda')"
   ]
  },
  {
   "cell_type": "code",
   "execution_count": 91,
   "metadata": {},
   "outputs": [],
   "source": [
    "preds = model.generate(\n",
    "              sentence_inputs['input_ids'],\n",
    "              do_sample=False, \n",
    "              max_length=max_length, \n",
    "              num_beams = 16,\n",
    "              num_beam_groups = 4,\n",
    "              diversity_penalty = 2.0,\n",
    "              early_stopping=True,\n",
    "              num_return_sequences=4\n",
    "              )"
   ]
  },
  {
   "cell_type": "code",
   "execution_count": 92,
   "metadata": {},
   "outputs": [],
   "source": [
    "generated_questions = tokenizer.batch_decode(preds, skip_special_tokens=True, clean_up_tokenization_spaces=True)"
   ]
  },
  {
   "cell_type": "code",
   "execution_count": 93,
   "metadata": {},
   "outputs": [],
   "source": [
    "generated_questions = list(set(generated_questions))"
   ]
  },
  {
   "cell_type": "code",
   "execution_count": 94,
   "metadata": {},
   "outputs": [
    {
     "data": {
      "text/plain": [
       "['The most valuable findings were dated from what time?',\n",
       " 'The most valuable findings were dated from what?',\n",
       " 'What building was used as a market in Hellenistic times?',\n",
       " 'What building was used as a market for Hellenistic time?',\n",
       " 'What building was used as a market for Hellenistic times?',\n",
       " 'What were the most valuable findings there?',\n",
       " 'What building was used to be used as a market?',\n",
       " 'The most valuable findings were dated from what times?']"
      ]
     },
     "execution_count": 94,
     "metadata": {},
     "output_type": "execute_result"
    }
   ],
   "source": [
    "generated_questions"
   ]
  },
  {
   "cell_type": "code",
   "execution_count": 75,
   "metadata": {},
   "outputs": [],
   "source": [
    "tokenizer.save_pretrained('./FineTunedQuestionGeneration');\n",
    "model.save_pretrained('./FineTunedQuestionGeneration');"
   ]
  },
  {
   "cell_type": "code",
   "execution_count": null,
   "metadata": {},
   "outputs": [],
   "source": []
  }
 ],
 "metadata": {
  "kernelspec": {
   "display_name": "guide",
   "language": "python",
   "name": "python3"
  },
  "language_info": {
   "codemirror_mode": {
    "name": "ipython",
    "version": 3
   },
   "file_extension": ".py",
   "mimetype": "text/x-python",
   "name": "python",
   "nbconvert_exporter": "python",
   "pygments_lexer": "ipython3",
   "version": "3.9.16"
  },
  "orig_nbformat": 4
 },
 "nbformat": 4,
 "nbformat_minor": 2
}
