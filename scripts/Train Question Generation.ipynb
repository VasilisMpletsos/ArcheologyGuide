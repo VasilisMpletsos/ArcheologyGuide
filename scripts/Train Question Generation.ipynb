{
 "cells": [
  {
   "cell_type": "code",
   "execution_count": 1,
   "metadata": {},
   "outputs": [
    {
     "name": "stderr",
     "output_type": "stream",
     "text": [
      "c:\\Users\\vmpletsos\\Anaconda3\\envs\\guide\\lib\\site-packages\\tqdm\\auto.py:21: TqdmWarning: IProgress not found. Please update jupyter and ipywidgets. See https://ipywidgets.readthedocs.io/en/stable/user_install.html\n",
      "  from .autonotebook import tqdm as notebook_tqdm\n"
     ]
    }
   ],
   "source": [
    "import torch\n",
    "import pandas as pd\n",
    "import numpy as np\n",
    "import torch.optim as optim\n",
    "from datasets import load_dataset\n",
    "# This one is for paraphrasing\n",
    "from transformers import AutoTokenizer, AutoModelForSeq2SeqLM"
   ]
  },
  {
   "cell_type": "code",
   "execution_count": 2,
   "metadata": {},
   "outputs": [],
   "source": [
    "torch.backends.cuda.matmul.allow_tf32 = True"
   ]
  },
  {
   "cell_type": "code",
   "execution_count": 3,
   "metadata": {},
   "outputs": [],
   "source": [
    "tokenizer = AutoTokenizer.from_pretrained(\"allenai/t5-small-squad2-question-generation\")\n",
    "model = AutoModelForSeq2SeqLM.from_pretrained(\"allenai/t5-small-squad2-question-generation\")"
   ]
  },
  {
   "cell_type": "code",
   "execution_count": 4,
   "metadata": {},
   "outputs": [],
   "source": [
    "model.to('cuda');"
   ]
  },
  {
   "cell_type": "code",
   "execution_count": 5,
   "metadata": {},
   "outputs": [
    {
     "name": "stdout",
     "output_type": "stream",
     "text": [
      "Downloading and preparing dataset csv/default to C:/Users/vmpletsos/.cache/huggingface/datasets/csv/default-4fdd8dcdc2cd20aa/0.0.0/6b34fb8fcf56f7c8ba51dc895bfa2bfbe43546f190a60fcf74bb5e8afdcc2317...\n"
     ]
    },
    {
     "name": "stderr",
     "output_type": "stream",
     "text": [
      "Downloading data files: 100%|██████████| 1/1 [00:00<?, ?it/s]\n",
      "Extracting data files: 100%|██████████| 1/1 [00:00<00:00, 1000.07it/s]\n",
      "Generating train split: 0 examples [00:00, ? examples/s]c:\\Users\\vmpletsos\\Anaconda3\\envs\\guide\\lib\\site-packages\\datasets\\download\\streaming_download_manager.py:776: FutureWarning: the 'mangle_dupe_cols' keyword is deprecated and will be removed in a future version. Please take steps to stop the use of 'mangle_dupe_cols'\n",
      "  return pd.read_csv(xopen(filepath_or_buffer, \"rb\", use_auth_token=use_auth_token), **kwargs)\n",
      "                                                        \r"
     ]
    },
    {
     "name": "stdout",
     "output_type": "stream",
     "text": [
      "Dataset csv downloaded and prepared to C:/Users/vmpletsos/.cache/huggingface/datasets/csv/default-4fdd8dcdc2cd20aa/0.0.0/6b34fb8fcf56f7c8ba51dc895bfa2bfbe43546f190a60fcf74bb5e8afdcc2317. Subsequent calls will reuse this data.\n"
     ]
    },
    {
     "name": "stderr",
     "output_type": "stream",
     "text": [
      "100%|██████████| 1/1 [00:00<00:00, 500.16it/s]\n"
     ]
    }
   ],
   "source": [
    "dataset = load_dataset(\"csv\", data_files='./Question Generation Train.csv');\n",
    "dataset = dataset['train'];"
   ]
  },
  {
   "cell_type": "code",
   "execution_count": 6,
   "metadata": {},
   "outputs": [],
   "source": [
    "# Shuffle the dataset\n",
    "dataset = dataset.shuffle();"
   ]
  },
  {
   "cell_type": "code",
   "execution_count": 7,
   "metadata": {},
   "outputs": [],
   "source": [
    "epochs = 10\n",
    "max_length = 256\n",
    "batch_size = 8\n",
    "gradient_accumulations_steps = 4"
   ]
  },
  {
   "cell_type": "code",
   "execution_count": 8,
   "metadata": {},
   "outputs": [],
   "source": [
    "dataset_length = len(dataset)"
   ]
  },
  {
   "cell_type": "code",
   "execution_count": 9,
   "metadata": {},
   "outputs": [],
   "source": [
    "optimizer = optim.Adam(\n",
    "            params=model.parameters(),\n",
    "            lr=1e-6,\n",
    "            betas=(0.9, 0.999),\n",
    "            eps=1e-08,\n",
    "            amsgrad=False,\n",
    "            weight_decay=1e-5\n",
    "        )"
   ]
  },
  {
   "cell_type": "code",
   "execution_count": 10,
   "metadata": {},
   "outputs": [
    {
     "name": "stdout",
     "output_type": "stream",
     "text": [
      "Epoch 1 Loss/train 0.2790758231329539\n",
      "Epoch 2 Loss/train 0.2808690733379788\n",
      "Epoch 3 Loss/train 0.28473420654024395\n",
      "Epoch 4 Loss/train 0.2824903717116704\n",
      "Epoch 5 Loss/train 0.2794976934554085\n",
      "Epoch 6 Loss/train 0.27708384347340415\n",
      "Epoch 7 Loss/train 0.2814704605511257\n",
      "Epoch 8 Loss/train 0.27634964008179924\n",
      "Epoch 9 Loss/train 0.2775893116754199\n",
      "Epoch 10 Loss/train 0.27882205020813716\n"
     ]
    }
   ],
   "source": [
    "for epoch in range(epochs):\n",
    "    # Set the model to training mode\n",
    "    model.train()\n",
    "    epoch_loss = 0\n",
    "    j = 0\n",
    "    while j < dataset_length:\n",
    "        if j + batch_size > dataset_length:\n",
    "            passages = dataset[j:len(dataset)]['passages']\n",
    "            questions = dataset[j:len(dataset)]['questions']\n",
    "        else:\n",
    "            passages = dataset[j:j + batch_size]['passages']\n",
    "            questions = dataset[j:j + batch_size]['questions']\n",
    "        j += batch_size \n",
    "        \n",
    "        encoding = tokenizer(\n",
    "            [original for original in passages],\n",
    "            padding=\"longest\",\n",
    "            max_length=max_length,\n",
    "            truncation=True,\n",
    "            return_tensors=\"pt\",\n",
    "        )\n",
    "        input_ids, attention_mask = encoding.input_ids, encoding.attention_mask\n",
    "        \n",
    "        target_encoding = tokenizer(\n",
    "            questions,\n",
    "            padding=\"longest\",\n",
    "            max_length=max_length,\n",
    "            truncation=True,\n",
    "            return_tensors=\"pt\",\n",
    "        )\n",
    "        labels = target_encoding.input_ids\n",
    "        # replace padding token id's of the labels by -100 so it's ignored by the loss\n",
    "        labels[labels == tokenizer.pad_token_id] = -100\n",
    "        \n",
    "        # Zero the gradients\n",
    "        optimizer.zero_grad()\n",
    "        \n",
    "        input_ids = input_ids.to('cuda')\n",
    "        attention_mask = attention_mask.to('cuda')\n",
    "        labels = labels.to('cuda')\n",
    "        \n",
    "        # forward pass\n",
    "        loss = model(input_ids=input_ids, attention_mask=attention_mask, labels=labels).loss\n",
    "        epoch_loss += loss.item()\n",
    "        loss.backward()\n",
    "        # (loss / gradient_accumulations_steps).backward()\n",
    "        \n",
    "        optimizer.step()\n",
    "        # # Backward pass and optimization step\n",
    "        # if (j+1) % gradient_accumulations_steps == 0:\n",
    "        #     model.zero_grad()\n",
    "    print('Epoch', epoch+1, 'Loss/train', epoch_loss/dataset_length)\n",
    "    "
   ]
  },
  {
   "cell_type": "code",
   "execution_count": 11,
   "metadata": {},
   "outputs": [],
   "source": [
    "# get 2 instructions from the dataset\n",
    "sentences = ['The deities Apollo and Demetra were worshipped there.']\n",
    "sentence_inputs = tokenizer([sentence for sentence in sentences], return_tensors=\"pt\", padding=True)\n",
    "sentence_inputs = sentence_inputs.to('cuda')"
   ]
  },
  {
   "cell_type": "code",
   "execution_count": 12,
   "metadata": {},
   "outputs": [],
   "source": [
    "preds = model.generate(\n",
    "              sentence_inputs['input_ids'],\n",
    "              do_sample=False, \n",
    "              max_length=max_length, \n",
    "              num_beams = 8,\n",
    "              num_beam_groups = 4,\n",
    "              diversity_penalty = 2.0,\n",
    "              early_stopping=True,\n",
    "              num_return_sequences=4\n",
    "              )"
   ]
  },
  {
   "cell_type": "code",
   "execution_count": 13,
   "metadata": {},
   "outputs": [],
   "source": [
    "generated_questions = tokenizer.batch_decode(preds, skip_special_tokens=True, clean_up_tokenization_spaces=True)"
   ]
  },
  {
   "cell_type": "code",
   "execution_count": 14,
   "metadata": {},
   "outputs": [],
   "source": [
    "generated_questions = list(set(generated_questions))"
   ]
  },
  {
   "cell_type": "code",
   "execution_count": 15,
   "metadata": {},
   "outputs": [
    {
     "data": {
      "text/plain": [
       "['When did Apollo believe?',\n",
       " 'When did Apollo believe??',\n",
       " 'When did Apollo worship?',\n",
       " 'When did Apollo worship??']"
      ]
     },
     "execution_count": 15,
     "metadata": {},
     "output_type": "execute_result"
    }
   ],
   "source": [
    "generated_questions"
   ]
  },
  {
   "cell_type": "code",
   "execution_count": 16,
   "metadata": {},
   "outputs": [],
   "source": [
    "tokenizer.save_pretrained('./FineTunedQuestionGeneration');\n",
    "model.save_pretrained('./FineTunedQuestionGeneration');"
   ]
  },
  {
   "cell_type": "code",
   "execution_count": null,
   "metadata": {},
   "outputs": [],
   "source": []
  }
 ],
 "metadata": {
  "kernelspec": {
   "display_name": "guide",
   "language": "python",
   "name": "python3"
  },
  "language_info": {
   "codemirror_mode": {
    "name": "ipython",
    "version": 3
   },
   "file_extension": ".py",
   "mimetype": "text/x-python",
   "name": "python",
   "nbconvert_exporter": "python",
   "pygments_lexer": "ipython3",
   "version": "3.9.16"
  },
  "orig_nbformat": 4
 },
 "nbformat": 4,
 "nbformat_minor": 2
}
